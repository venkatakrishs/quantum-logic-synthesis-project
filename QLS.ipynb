{
 "cells": [
  {
   "cell_type": "markdown",
   "id": "801f1281-efef-4d38-ba3b-4f97d7342ca0",
   "metadata": {},
   "source": [
    "<img src=\"tamu.png\" border=\"0\" alt=\"TAMU Logo\" width=\"200\">\n",
    "<h1>Quantum Instruction Set Architecture Development using pyQuil</h1>\n",
    "<h3>Presented by: Venkatakrishnan Sutharsan</h3>"
   ]
  },
  {
   "cell_type": "markdown",
   "id": "6425ebdc-5791-4db6-aac4-5cba78993ff5",
   "metadata": {},
   "source": [
    "<h2>Importing Required Packages and utilities</h2>"
   ]
  },
  {
   "cell_type": "code",
   "execution_count": 1,
   "id": "14121d0c-4c11-4077-8077-5c6b6c149df1",
   "metadata": {},
   "outputs": [],
   "source": [
    "from pyquil import Program, get_qc\n",
    "from pyquil.gates import *\n",
    "from pyquil.quilbase import Declare\n",
    "import numpy as np\n",
    "from pyquil.quil import DefGate\n",
    "import numpy as np\n",
    "from math import pi\n",
    "\n",
    "from pyquil.api import WavefunctionSimulator\n",
    "wf_sim = WavefunctionSimulator()\n",
    "\n",
    "def view_graph(p):\n",
    "    print(p)"
   ]
  },
  {
   "cell_type": "markdown",
   "id": "0340773a-2219-4fd1-a9c6-c411cf3311a0",
   "metadata": {},
   "source": [
    "<h2>The below is program in Quil to declare a memory space named \"ro\" and then apply Pauli-X gate to Qubit 0 of the circuit and read it to that specific memory space ro[0]</h2>"
   ]
  },
  {
   "cell_type": "code",
   "execution_count": 23,
   "id": "b8d17065-bda1-4f0d-bdeb-ec9066e8c9ad",
   "metadata": {},
   "outputs": [],
   "source": [
    "p = Program()\n",
    "ro = p.declare('ro', 'BIT', 1)\n",
    "p += X(0)\n",
    "p += MEASURE(0, ro[0])"
   ]
  },
  {
   "cell_type": "code",
   "execution_count": 24,
   "id": "7464f55e-370e-4128-9232-881165208221",
   "metadata": {},
   "outputs": [
    {
     "name": "stdout",
     "output_type": "stream",
     "text": [
      "DECLARE ro BIT[1]\n",
      "X 0\n",
      "MEASURE 0 ro[0]\n",
      "\n"
     ]
    }
   ],
   "source": [
    "view_graph(p)"
   ]
  },
  {
   "cell_type": "code",
   "execution_count": 25,
   "id": "cb23024c-06bd-4674-a515-a0ee27d6c329",
   "metadata": {},
   "outputs": [
    {
     "name": "stdout",
     "output_type": "stream",
     "text": [
      "[[1]]\n"
     ]
    }
   ],
   "source": [
    "qc = get_qc('1q-qvm')  # You can make any 'nq-qvm' this way for any reasonable 'n'\n",
    "executable = qc.compile(p)\n",
    "result = qc.run(executable)\n",
    "bitstrings = result.get_register_map().get('ro')\n",
    "print(bitstrings)"
   ]
  },
  {
   "cell_type": "markdown",
   "id": "738eae74-3914-4c6a-a6ae-05d09ee30e51",
   "metadata": {},
   "source": [
    "<h2>Creating a sample circuit with Bell State to Demo Quantum Circuits</h2>"
   ]
  },
  {
   "cell_type": "code",
   "execution_count": 26,
   "id": "b028f889-95db-4f25-a047-2e8e4b8fc4a2",
   "metadata": {},
   "outputs": [],
   "source": [
    "p = Program(\n",
    "    Declare(\"ro\", \"BIT\", 2),\n",
    "    H(0),                         # Applying Hadamard Gate to Qubit 0 in the circuit\n",
    "    CNOT(0, 1),                   # Applying CNOT (Controlled-NOT gate to bit 0 and 1 where bit 0 is the control bit) to the result of Hadamard Gate\n",
    "    MEASURE(0, (\"ro\", 0)),\n",
    "    MEASURE(1, (\"ro\", 1)),\n",
    ").wrap_in_numshots_loop(10) # We are running 10 iterations"
   ]
  },
  {
   "cell_type": "code",
   "execution_count": 27,
   "id": "d3ab7c79-daa4-4e93-a4a4-bbb136ab7028",
   "metadata": {},
   "outputs": [
    {
     "name": "stdout",
     "output_type": "stream",
     "text": [
      "DECLARE ro BIT[2]\n",
      "H 0\n",
      "CNOT 0 1\n",
      "MEASURE 0 ro[0]\n",
      "MEASURE 1 ro[1]\n",
      "\n"
     ]
    }
   ],
   "source": [
    "print(p)"
   ]
  },
  {
   "cell_type": "markdown",
   "id": "199a382c-dcce-4c2f-9197-dd9e84bbf805",
   "metadata": {},
   "source": [
    "The Quil language primitive shows that we do the following:\n",
    "1. Create a Qubit named \"ro\" which is of type \"BIT\" and is 2-bits\n",
    "2. Apply Hadamard Gate to Qubit 0 of the circuit (Superposition)\n",
    "3. Apply Controlled-NOT gate to Qubit 0 and 1 with Qubit 0 as control signal\n",
    "\n",
    "The above circuit is the basic circuit to demonstrate the Quantum Entanglement!"
   ]
  },
  {
   "cell_type": "code",
   "execution_count": 28,
   "id": "683518f1-c672-44fb-a759-7f3d04a72817",
   "metadata": {},
   "outputs": [
    {
     "name": "stdout",
     "output_type": "stream",
     "text": [
      "[[1 1]\n",
      " [0 0]\n",
      " [1 1]\n",
      " [0 0]\n",
      " [1 1]\n",
      " [0 0]\n",
      " [1 1]\n",
      " [1 1]\n",
      " [0 0]\n",
      " [0 0]]\n"
     ]
    }
   ],
   "source": [
    "# run the program on a QVM\n",
    "qc = get_qc('9q-square-qvm')\n",
    "result = qc.run(qc.compile(p)).get_register_map().get(\"ro\")\n",
    "print(result)"
   ]
  },
  {
   "cell_type": "markdown",
   "id": "ba3bddaa-c4d5-42a8-b631-263b5feabb9b",
   "metadata": {},
   "source": [
    "We can see that for the 10 iterations we are able to see that Qubit 1 is equal to Qubit 0, thus proving the Quantum Entanglement by the Bell Circuit"
   ]
  },
  {
   "cell_type": "code",
   "execution_count": 29,
   "id": "933b37cf-d58c-4c45-b0a3-beb4e7127dfd",
   "metadata": {},
   "outputs": [
    {
     "name": "stdout",
     "output_type": "stream",
     "text": [
      "DECLARE ro BIT[2]\n",
      "X 1\n",
      "H 0\n",
      "CNOT 0 1\n",
      "MEASURE 0 ro[0]\n",
      "MEASURE 1 ro[1]\n",
      "\n",
      "[[1 0]\n",
      " [0 1]\n",
      " [0 1]\n",
      " [1 0]\n",
      " [0 1]\n",
      " [1 0]\n",
      " [0 1]\n",
      " [1 0]\n",
      " [1 0]\n",
      " [0 1]]\n"
     ]
    }
   ],
   "source": [
    "p = Program(\n",
    "    Declare(\"ro\", \"BIT\", 2),\n",
    "    X(1),\n",
    "    H(0),                         # Applying Hadamard Gate to Qubit 0 in the circuit\n",
    "    CNOT(0, 1),                   # Applying CNOT (Controlled-NOT gate to bit 0 and 1 where bit 0 is the control bit) to the result of Hadamard Gate\n",
    "    MEASURE(0, (\"ro\", 0)),\n",
    "    MEASURE(1, (\"ro\", 1)),\n",
    ").wrap_in_numshots_loop(10) # We are running 10 iterations\n",
    "print(p)\n",
    "# run the program on a QVM\n",
    "qc = get_qc('9q-square-qvm')\n",
    "result = qc.run(qc.compile(p)).get_register_map().get(\"ro\")\n",
    "print(result)"
   ]
  },
  {
   "cell_type": "markdown",
   "id": "f477c401-d6d7-4c3e-9f92-5823af529d7c",
   "metadata": {},
   "source": [
    "<h2>Defining our own gate (Its a square-root gate)</h2>"
   ]
  },
  {
   "cell_type": "code",
   "execution_count": 30,
   "id": "cbac66a8-0487-4d92-b4c4-a3cd1cf9d26c",
   "metadata": {},
   "outputs": [],
   "source": [
    "# A multi-qubit defgate example\n",
    "x_gate_matrix = np.array(([0.0, 1.0], [1.0, 0.0]))\n",
    "sqrt_x = np.array([[ 0.5+0.5j,  0.5-0.5j],\n",
    "                [ 0.5-0.5j,  0.5+0.5j]])\n",
    "x_sqrt_x = np.kron(x_gate_matrix, sqrt_x)"
   ]
  },
  {
   "cell_type": "code",
   "execution_count": 31,
   "id": "e56f6744-df63-49ba-82f5-7a0e3c777af3",
   "metadata": {},
   "outputs": [],
   "source": [
    "x_sqrt_x_definition = DefGate(\"X-SQRT-X\", x_sqrt_x)\n",
    "X_SQRT_X = x_sqrt_x_definition.get_constructor()\n",
    "\n",
    "# Then we can use the new gate\n",
    "p = Program(x_sqrt_x_definition, X_SQRT_X(0, 1))"
   ]
  },
  {
   "cell_type": "code",
   "execution_count": 32,
   "id": "d4df6a1d-0dbe-4020-8b6b-321d026fa5b4",
   "metadata": {},
   "outputs": [
    {
     "name": "stdout",
     "output_type": "stream",
     "text": [
      "DEFGATE X-SQRT-X AS MATRIX:\n",
      "\t0, 0, 0.5+0.5i, 0.5-0.5i\n",
      "\t0, 0, 0.5-0.5i, 0.5+0.5i\n",
      "\t0.5+0.5i, 0.5-0.5i, 0, 0\n",
      "\t0.5-0.5i, 0.5+0.5i, 0, 0\n",
      "\n",
      "X-SQRT-X 0 1\n",
      "\n"
     ]
    }
   ],
   "source": [
    "view_graph(p)"
   ]
  },
  {
   "cell_type": "code",
   "execution_count": 248,
   "id": "9b358764-b463-4761-ba25-0c3a38d2d78c",
   "metadata": {},
   "outputs": [],
   "source": [
    "wavefunc = wf_sim.wavefunction(p)"
   ]
  },
  {
   "cell_type": "code",
   "execution_count": 249,
   "id": "3ea7ce2a-24d8-4f52-9457-d56cac3d4810",
   "metadata": {},
   "outputs": [
    {
     "name": "stdout",
     "output_type": "stream",
     "text": [
      "(0.5+0.5j)|01> + (0.5-0.5j)|11>\n"
     ]
    }
   ],
   "source": [
    "print(wavefunc)"
   ]
  },
  {
   "cell_type": "markdown",
   "id": "7c16f32d-4248-4c56-b2a6-b1571212a9be",
   "metadata": {},
   "source": [
    "<h2>Testing our 2-bit adder</h2>"
   ]
  },
  {
   "cell_type": "code",
   "execution_count": 47,
   "id": "31857ab7-e29d-476d-8d2b-eb24ec883835",
   "metadata": {},
   "outputs": [],
   "source": [
    "# A fully connected QVM\n",
    "number_of_qubits = 3\n",
    "qc = get_qc(f\"{number_of_qubits}q-qvm\")"
   ]
  },
  {
   "cell_type": "code",
   "execution_count": 51,
   "id": "9ab07b60-c985-47c9-867a-0f4d0a7d1be0",
   "metadata": {},
   "outputs": [
    {
     "name": "stdout",
     "output_type": "stream",
     "text": [
      "DECLARE q BIT[6]\n",
      "X 0\n",
      "MEASURE 0 q[0]\n",
      "MEASURE 1 q[1]\n",
      "MEASURE 2 q[2]\n",
      "CCNOT 0 1 2\n",
      "CNOT 0 1\n",
      "MEASURE 0 q[3]\n",
      "MEASURE 1 q[4]\n",
      "MEASURE 2 q[5]\n",
      "\n"
     ]
    }
   ],
   "source": [
    "q0 = 0 # Input 1 of the AND Gate\n",
    "q1 = 1\n",
    "q2 = 2 \n",
    "\n",
    "p = Program().wrap_in_numshots_loop(10)\n",
    "p += Declare(\"q\",\"BIT\", 6)\n",
    "\n",
    "# Data formatting to show demo\n",
    "p += X(0)\n",
    "# p += X(1)\n",
    "# p += X(2)\n",
    "\n",
    "p += MEASURE(q0, (\"q\", 0))\n",
    "p += MEASURE(q1, (\"q\", 1))\n",
    "p += MEASURE(q2, (\"q\", 2))\n",
    "\n",
    "p += CCNOT(q0, q1, q2)\n",
    "p += CNOT(q0, q1)\n",
    "# p += MEASURE(0,\n",
    "p += MEASURE(q0, (\"q\", 3))\n",
    "p += MEASURE(q1, (\"q\", 4))\n",
    "p += MEASURE(q2, (\"q\", 5))\n",
    "view_graph(p)"
   ]
  },
  {
   "cell_type": "code",
   "execution_count": 52,
   "id": "b3931c92-13d4-4bec-82a5-7e66f0bcf227",
   "metadata": {},
   "outputs": [
    {
     "name": "stdout",
     "output_type": "stream",
     "text": [
      "(1+0j)|011>\n"
     ]
    }
   ],
   "source": [
    "result = qc.run(qc.compile(p)).get_register_map().get(\"q\")\n",
    "wavefunc = wf_sim.wavefunction(p)\n",
    "print(wavefunc)"
   ]
  },
  {
   "cell_type": "code",
   "execution_count": 53,
   "id": "bb1821a2-d661-45c3-bb39-926120ec8bdd",
   "metadata": {},
   "outputs": [
    {
     "name": "stdout",
     "output_type": "stream",
     "text": [
      "[[1 0 0 1 1 0]\n",
      " [1 0 0 1 1 0]\n",
      " [1 0 0 1 1 0]\n",
      " [1 0 0 1 1 0]\n",
      " [1 0 0 1 1 0]\n",
      " [1 0 0 1 1 0]\n",
      " [1 0 0 1 1 0]\n",
      " [1 0 0 1 1 0]\n",
      " [1 0 0 1 1 0]\n",
      " [1 0 0 1 1 0]]\n"
     ]
    }
   ],
   "source": [
    "print(result)"
   ]
  },
  {
   "cell_type": "markdown",
   "id": "82131352-9b47-46bd-82f0-26d78ee94c91",
   "metadata": {},
   "source": [
    "<h1><b>Creating Custom Instruction</b></h1>"
   ]
  },
  {
   "cell_type": "code",
   "execution_count": 8,
   "id": "d115a52a-a397-477f-ac95-4c2f80f0e970",
   "metadata": {},
   "outputs": [],
   "source": [
    "# A fully connected QVM\n",
    "number_of_qubits = 6\n",
    "qc = get_qc(f\"{number_of_qubits}q-qvm\")\n",
    "# Initialize a program\n",
    "p = Program().wrap_in_numshots_loop(10)"
   ]
  },
  {
   "cell_type": "code",
   "execution_count": 9,
   "id": "d5b5c1b2-0d0e-4f96-b865-a75d45945686",
   "metadata": {},
   "outputs": [],
   "source": [
    "def custom_instruction(p, instr, *param):\n",
    "    # print(param)\n",
    "    if (instr == \"superposition\"):\n",
    "        \"\"\" Instruction to do superposition on a qubit mentioned in the call.\n",
    "        Usage: custom_instruction(p, \"superposition\", \"h0\", 0)\n",
    "        \"\"\"\n",
    "        p += Declare(param[0],\"BIT\", 1)\n",
    "        p += H(param[1])\n",
    "        p += MEASURE(param[1], (param[0], 0))\n",
    "    elif (instr == \"rotate\"):\n",
    "        \"\"\" Instruction to do rotation on a qubit mentioned by a certain angle.\n",
    "        Usage: custom_instruction(p, \"rotate\", \"X\", \n",
    "        \"\"\"\n",
    "        if (param[0] == \"X\" or param[0] == \"x\"):\n",
    "            p += RX(param[1], param[2])\n",
    "        elif (param[0] == \"Y\" or param[0] == \"y\"):\n",
    "            p += RY(param[1], param[2])\n",
    "        elif (param[0] == \"Z\" or param[0] == \"z\"):\n",
    "            p += RZ(param[1], param[2])\n",
    "    elif (instr == \"NEG\" or instr == \"neg\"):\n",
    "        \"\"\" Instruction to do negation of a Qubit specified by the user/compiler\n",
    "        Usage: custom_instruction(p, \"neg\", 1) \n",
    "        \"\"\"\n",
    "        p += Declare(param[0],\"BIT\", 1)\n",
    "        p += X(param[1])\n",
    "        p += MEASURE(param[1], (param[0], 0))\n",
    "    elif (instr == \"ADD\" or instr == \"add\"):\n",
    "        \"\"\" Instruction to addition of 2 bits.\n",
    "        Usage : custom_instruction(p, \"add\", \"add_qubit\", 0, 1, 2)\n",
    "            Param[0] - Name of memory you want to instantiate for this instruction result to be stored.\n",
    "            Param[1] - The Qubit Number you want to use as input 1.\n",
    "            Param[2] - The Qubit Number you want to use as input 2.\n",
    "        \"\"\"\n",
    "        p += Declare(param[0],\"BIT\", 2)\n",
    "        p += CCNOT(param[1], param[2], param[3])\n",
    "        p += CNOT(param[1], param[2])\n",
    "        p += MEASURE(param[2], (param[0], 0))  # Sum\n",
    "        p += MEASURE(param[3], (param[0], 1))  # Carry\n",
    "    elif (instr == \"QFT\" or instr == \"qft\"):\n",
    "        \"\"\" Instruction to perform Quantum Fourier Transform on given number of bits.\n",
    "        NOTE: Use only with 3-Qubits..!\n",
    "        Usage: custom_instruction(p, \"QFT\", \"qft_result\", [1, 2, 3])\n",
    "        \"\"\"\n",
    "        num_qubits = len(param[1])\n",
    "        q0 = param[1][0]\n",
    "        q1 = param[1][1]\n",
    "        q2 = param[1][2]\n",
    "        p += Declare(param[0],\"BIT\", num_qubits)\n",
    "        # Apply Hadamard to all qubits\n",
    "        p += H(param[1][0])\n",
    "        p += H(param[1][1])\n",
    "        p += H(param[1][2])\n",
    "        \n",
    "        # Apply controlled phase rotations\n",
    "        for i in range(2, 0, -1):\n",
    "            for j in range(i):\n",
    "                control_qubit = param[1][j]\n",
    "                target_qubit = param[1][j+1]\n",
    "                angle = pi / (2**i)\n",
    "                p += CPHASE(angle, control_qubit, target_qubit)\n",
    "\n",
    "        p += MEASURE(param[1][0], (param[0], 0))\n",
    "        p += MEASURE(param[1][1], (param[0], 1))\n",
    "        p += MEASURE(param[1][2], (param[0], 2))\n",
    "        # Apply SWAP gate for bit-reversal order (optional)\n",
    "        # p += SWAP(q0, q2)\n",
    "    elif (instr == \"MOV\" or instr == \"mov\"):\n",
    "        \"\"\" Instruction to move value from one qubit to another qubit\n",
    "        Usage: custom_instruction(p, \"MOV\", 1, 2)\n",
    "        \"\"\"\n",
    "        # Can also be done using 3-CNOT gate\n",
    "        p += Declare(param[0],\"BIT\", 2)\n",
    "        p += SWAP(param[1], param[2])\n",
    "        p += MEASURE(param[1], (param[0], 0))\n",
    "        p += MEASURE(param[2], (param[0], 1))"
   ]
  },
  {
   "cell_type": "code",
   "execution_count": 10,
   "id": "b54332d3-e367-4149-a7b5-ed382f037701",
   "metadata": {},
   "outputs": [],
   "source": [
    "#  Applying Negate to Qubit 0 and 1\n",
    "# custom_instruction(p, \"NEG\", \"neg_result1\", 0)\n",
    "# custom_instruction(p, \"NEG\", \"neg_result2\", 1)\n",
    "# custom_instruction(p, \"NEG\", \"neg_result2\", 2)\n",
    "# custom_instruction(p, \"NEG\", \"neg_result\", 4)\n",
    "# Applying Add operation to Qubit 0, 1 with Qubit 2 as 0 to get carry directly.\n",
    "# custom_instruction(p, \"ADD\", \"add_result1\", 0, 1, 2)\n",
    "\n",
    "# Negating Qubit 3 to get 1 basis and fo QFT on Qubits 3,4,5\n",
    "custom_instruction(p, \"NEG\", \"neg_result\", 3)\n",
    "custom_instruction(p, \"QFT\", \"qft_result\", [3, 4, 5])"
   ]
  },
  {
   "cell_type": "code",
   "execution_count": 11,
   "id": "d5496e6e-1c10-4aba-9b20-d44d3904799f",
   "metadata": {},
   "outputs": [
    {
     "name": "stdout",
     "output_type": "stream",
     "text": [
      "DECLARE neg_result BIT[1]\n",
      "DECLARE qft_result BIT[3]\n",
      "X 3\n",
      "MEASURE 3 neg_result[0]\n",
      "H 3\n",
      "H 4\n",
      "H 5\n",
      "CPHASE(0.7853981633974483) 3 4\n",
      "CPHASE(0.7853981633974483) 4 5\n",
      "CPHASE(1.5707963267948966) 3 4\n",
      "MEASURE 3 qft_result[0]\n",
      "MEASURE 4 qft_result[1]\n",
      "MEASURE 5 qft_result[2]\n",
      "\n"
     ]
    }
   ],
   "source": [
    "view_graph(p)"
   ]
  },
  {
   "cell_type": "code",
   "execution_count": 12,
   "id": "b2685f20-e888-48aa-b488-8c4c5067b9cd",
   "metadata": {},
   "outputs": [
    {
     "name": "stdout",
     "output_type": "stream",
     "text": [
      "[0.+0.j 0.+0.j 1.+0.j 0.+0.j 0.+0.j 0.+0.j 0.+0.j 0.+0.j]\n",
      "8\n"
     ]
    }
   ],
   "source": [
    "result = qc.run(qc.compile(p)).get_register_map()\n",
    "wavefunc = wf_sim.wavefunction(p)\n",
    "print(wavefunc.amplitudes)\n",
    "print(len(wavefunc.amplitudes))"
   ]
  },
  {
   "cell_type": "code",
   "execution_count": 13,
   "id": "0f289ed9-da72-41f2-a13b-715c3492b20a",
   "metadata": {},
   "outputs": [
    {
     "name": "stdout",
     "output_type": "stream",
     "text": [
      "{'qft_result': array([[1, 0, 0],\n",
      "       [1, 0, 1],\n",
      "       [0, 0, 0],\n",
      "       [1, 1, 1],\n",
      "       [0, 1, 1],\n",
      "       [0, 0, 1],\n",
      "       [1, 0, 1],\n",
      "       [0, 0, 1],\n",
      "       [0, 1, 0],\n",
      "       [0, 0, 0]]), 'neg_result': array([[1],\n",
      "       [1],\n",
      "       [1],\n",
      "       [1],\n",
      "       [1],\n",
      "       [1],\n",
      "       [1],\n",
      "       [1],\n",
      "       [1],\n",
      "       [1]])}\n"
     ]
    }
   ],
   "source": [
    "print(result)"
   ]
  },
  {
   "cell_type": "code",
   "execution_count": 17,
   "id": "3609a7d9-1b15-4a87-a33b-de20c6cda281",
   "metadata": {},
   "outputs": [
    {
     "name": "stdout",
     "output_type": "stream",
     "text": [
      "[-0.125     +0.j         -0.03628558-0.11961754j  0.1039337 -0.06944628j\n",
      "  0.09662631+0.07929916j -0.04783543+0.11548494j -0.12439809-0.01225214j\n",
      " -0.02438629-0.12259816j  0.11024016-0.05892459j  0.08838835+0.08838835j\n",
      " -0.05892459+0.11024016j -0.12259816-0.02438629j -0.01225214-0.12439809j\n",
      "  0.11548494-0.04783543j  0.07929916+0.09662631j -0.06944628+0.1039337j\n",
      " -0.11961754-0.03628558j  0.        -0.125j       0.11961754-0.03628558j\n",
      "  0.06944628+0.1039337j  -0.07929916+0.09662631j -0.11548494-0.04783543j\n",
      "  0.01225214-0.12439809j  0.12259816-0.02438629j  0.05892459+0.11024016j\n",
      " -0.08838835+0.08838835j -0.11024016-0.05892459j  0.02438629-0.12259816j\n",
      "  0.12439809-0.01225214j  0.04783543+0.11548494j -0.09662631+0.07929916j\n",
      " -0.1039337 -0.06944628j  0.03628558-0.11961754j  0.125     +0.j\n",
      "  0.03628558+0.11961754j -0.1039337 +0.06944628j -0.09662631-0.07929916j\n",
      "  0.04783543-0.11548494j  0.12439809+0.01225214j  0.02438629+0.12259816j\n",
      " -0.11024016+0.05892459j -0.08838835-0.08838835j  0.05892459-0.11024016j\n",
      "  0.12259816+0.02438629j  0.01225214+0.12439809j -0.11548494+0.04783543j\n",
      " -0.07929916-0.09662631j  0.06944628-0.1039337j   0.11961754+0.03628558j\n",
      "  0.        +0.125j      -0.11961754+0.03628558j -0.06944628-0.1039337j\n",
      "  0.07929916-0.09662631j  0.11548494+0.04783543j -0.01225214+0.12439809j\n",
      " -0.12259816+0.02438629j -0.05892459-0.11024016j  0.08838835-0.08838835j\n",
      "  0.11024016+0.05892459j -0.02438629+0.12259816j -0.12439809+0.01225214j\n",
      " -0.04783543-0.11548494j  0.09662631-0.07929916j  0.1039337 +0.06944628j\n",
      " -0.03628558+0.11961754j]\n"
     ]
    }
   ],
   "source": [
    "from numpy.fft import ifft\n",
    "print(ifft(wavefunc.amplitudes, norm=\"ortho\"))"
   ]
  },
  {
   "cell_type": "code",
   "execution_count": null,
   "id": "2e3a87f6-68cf-44f8-b33d-f32bde79c8d8",
   "metadata": {},
   "outputs": [],
   "source": []
  }
 ],
 "metadata": {
  "kernelspec": {
   "display_name": "Python 3 (ipykernel)",
   "language": "python",
   "name": "python3"
  },
  "language_info": {
   "codemirror_mode": {
    "name": "ipython",
    "version": 3
   },
   "file_extension": ".py",
   "mimetype": "text/x-python",
   "name": "python",
   "nbconvert_exporter": "python",
   "pygments_lexer": "ipython3",
   "version": "3.8.17"
  }
 },
 "nbformat": 4,
 "nbformat_minor": 5
}
